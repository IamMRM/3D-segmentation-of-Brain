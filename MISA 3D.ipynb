{
 "cells": [
  {
   "cell_type": "markdown",
   "metadata": {
    "id": "MCyDC5QmTIMx"
   },
   "source": [
    "# **Drive Mounting**"
   ]
  },
  {
   "cell_type": "code",
   "execution_count": null,
   "metadata": {
    "colab": {
     "base_uri": "https://localhost:8080/"
    },
    "executionInfo": {
     "elapsed": 28744,
     "status": "ok",
     "timestamp": 1641480823273,
     "user": {
      "displayName": "Muhammad Roshan Mughees",
      "photoUrl": "https://lh3.googleusercontent.com/a-/AOh14GjLW_8o7CwVjNZU3PLvAO31Gm-m6m52gQP1zEoNtg=s64",
      "userId": "00198926621962884016"
     },
     "user_tz": -60
    },
    "id": "dWxOue7nJzAu",
    "outputId": "f5546e4e-e126-4cc2-a0dd-57907c653707"
   },
   "outputs": [],
   "source": [
    "\"\"\"from google.colab import drive\n",
    "drive.mount('/content/drive', force_remount=True)\n",
    "%cd 'drive/My Drive/Colab Notebooks/MISA PROJECT/'\n",
    "#%cd 'drive/My Drive/MISA PROJECT/'\"\"\""
   ]
  },
  {
   "cell_type": "markdown",
   "metadata": {
    "id": "It1LhpVVS6Py"
   },
   "source": [
    "# Libraries Import:\n"
   ]
  },
  {
   "cell_type": "code",
   "execution_count": null,
   "metadata": {
    "colab": {
     "base_uri": "https://localhost:8080/"
    },
    "executionInfo": {
     "elapsed": 42520,
     "status": "ok",
     "timestamp": 1641480866612,
     "user": {
      "displayName": "Muhammad Roshan Mughees",
      "photoUrl": "https://lh3.googleusercontent.com/a-/AOh14GjLW_8o7CwVjNZU3PLvAO31Gm-m6m52gQP1zEoNtg=s64",
      "userId": "00198926621962884016"
     },
     "user_tz": -60
    },
    "id": "LmOqUl3DKL-U",
    "outputId": "21a61ba6-452c-47ca-9e5c-f6a8209fbd7f"
   },
   "outputs": [],
   "source": [
    "import os\n",
    "import numpy as np\n",
    "import nibabel as nib\n",
    "!pip install antspyx\n",
    "import ants\n",
    "import copy\n",
    "import pandas as pd\n",
    "import time\n",
    "import warnings\n",
    "warnings.filterwarnings('ignore')"
   ]
  },
  {
   "cell_type": "code",
   "execution_count": null,
   "metadata": {},
   "outputs": [],
   "source": [
    "#for interactive plots\n",
    "%matplotlib notebook\n",
    "#for static images\n",
    "%matplotlib inline\n",
    "import matplotlib.pyplot as plt"
   ]
  },
  {
   "cell_type": "code",
   "execution_count": null,
   "metadata": {},
   "outputs": [],
   "source": [
    "import torch\n",
    "import torchvision\n",
    "from torch.utils.data import DataLoader\n",
    "from torch.utils.data import Dataset\n",
    "import torch.nn as nn\n",
    "import torch.nn.functional as F\n",
    "from torch.optim.lr_scheduler import ReduceLROnPlateau\n",
    "from torch.optim import Adam"
   ]
  },
  {
   "cell_type": "code",
   "execution_count": null,
   "metadata": {},
   "outputs": [],
   "source": [
    "from helper import *\n",
    "from datagen import *\n",
    "from model import *\n",
    "from eval_helper import *\n",
    "from metrics import *"
   ]
  },
  {
   "cell_type": "markdown",
   "metadata": {
    "id": "YIwCMVr6YCbx"
   },
   "source": [
    "# Initialize variables"
   ]
  },
  {
   "cell_type": "code",
   "execution_count": null,
   "metadata": {
    "executionInfo": {
     "elapsed": 4,
     "status": "ok",
     "timestamp": 1641480866804,
     "user": {
      "displayName": "Muhammad Roshan Mughees",
      "photoUrl": "https://lh3.googleusercontent.com/a-/AOh14GjLW_8o7CwVjNZU3PLvAO31Gm-m6m52gQP1zEoNtg=s64",
      "userId": "00198926621962884016"
     },
     "user_tz": -60
    },
    "id": "ShLBGti1ffZF"
   },
   "outputs": [],
   "source": [
    "training_path = 'dataset/Training_Set'\n",
    "validation_path = 'dataset/Validation_Set'\n",
    "test_path = 'dataset/Test_Set'\n",
    "\n",
    "num_epochs = 100\n",
    "multi = True\n",
    "device=set_device()\n",
    "\n",
    "patch_size = (32,32,32)# 256/32 = 8, 128/32 = 4\n",
    "sampling_step = (16,16,16)#256/16 = 16, 128/16 = 8\n",
    "batchsize=32"
   ]
  },
  {
   "cell_type": "markdown",
   "metadata": {
    "id": "cEpQY9N9t9SN"
   },
   "source": [
    "# Make general mask of brain images (ROI) (To be run once)"
   ]
  },
  {
   "cell_type": "code",
   "execution_count": null,
   "metadata": {
    "colab": {
     "base_uri": "https://localhost:8080/",
     "height": 1000
    },
    "executionInfo": {
     "elapsed": 38953,
     "status": "ok",
     "timestamp": 1641471718704,
     "user": {
      "displayName": "Muhammad Roshan Mughees",
      "photoUrl": "https://lh3.googleusercontent.com/a-/AOh14GjLW_8o7CwVjNZU3PLvAO31Gm-m6m52gQP1zEoNtg=s64",
      "userId": "00198926621962884016"
     },
     "user_tz": -60
    },
    "id": "bN9GI2vsgicw",
    "outputId": "06b7c78f-f27d-4c74-d62a-b4633fda530f"
   },
   "outputs": [],
   "source": [
    "for scan_id in os.listdir(training_path):\n",
    "  scan = ants.image_read(os.path.join(training_path, scan_id, '{}.nii.gz'.format(scan_id)))\n",
    "  #ants.plot(scan)\n",
    "  brainmask = ants.image_clone(scan).apply(mask_image)\n",
    "  #ants.plot(brainmask)\n",
    "  brainmask.to_filename(os.path.join(training_path, scan_id, '{}_brainmask.nii.gz'.format(scan_id)))\n",
    "\n",
    "for scan_id in os.listdir(validation_path):\n",
    "  scan = ants.image_read(os.path.join(validation_path, scan_id, '{}.nii.gz'.format(scan_id)))\n",
    "  brainmask = ants.image_clone(scan).apply(mask_image)\n",
    "  brainmask.to_filename(os.path.join(validation_path, scan_id, '{}_brainmask.nii.gz'.format(scan_id)))"
   ]
  },
  {
   "cell_type": "code",
   "execution_count": null,
   "metadata": {
    "colab": {
     "base_uri": "https://localhost:8080/"
    },
    "executionInfo": {
     "elapsed": 2860,
     "status": "ok",
     "timestamp": 1641421533055,
     "user": {
      "displayName": "Muhammad Roshan Mughees",
      "photoUrl": "https://lh3.googleusercontent.com/a-/AOh14Ggq10o3plYg1dAes7glpSB5v_r8Hs6cSQVCK1V9=s64",
      "userId": "06643109303084571287"
     },
     "user_tz": -60
    },
    "id": "9MWjJ79TVyfs",
    "outputId": "b0fb2508-0ca4-46be-bc96-0d21b7a5d459"
   },
   "outputs": [],
   "source": [
    "for scan_id in os.listdir(test_path):\n",
    "  scan = ants.image_read(os.path.join(test_path, scan_id, '{}.nii.gz'.format(scan_id)))\n",
    "  brainmask = ants.image_clone(scan).apply(mask_image)\n",
    "  brainmask.to_filename(os.path.join(test_path, scan_id, '{}_brainmask.nii.gz'.format(scan_id)))"
   ]
  },
  {
   "cell_type": "markdown",
   "metadata": {
    "id": "4uQpcbeWF8oW"
   },
   "source": [
    "# loading paths of data"
   ]
  },
  {
   "cell_type": "code",
   "execution_count": null,
   "metadata": {
    "executionInfo": {
     "elapsed": 478,
     "status": "ok",
     "timestamp": 1641480867278,
     "user": {
      "displayName": "Muhammad Roshan Mughees",
      "photoUrl": "https://lh3.googleusercontent.com/a-/AOh14GjLW_8o7CwVjNZU3PLvAO31Gm-m6m52gQP1zEoNtg=s64",
      "userId": "00198926621962884016"
     },
     "user_tz": -60
    },
    "id": "pSskW52qt23h"
   },
   "outputs": [],
   "source": [
    "#Training\n",
    "input_train_data={}\n",
    "input_train_labels={}\n",
    "input_train_rois={}\n",
    "for scan_id in os.listdir(training_path):\n",
    "  input_train_data[scan_id]=[os.path.join(training_path, scan_id, '{}.nii.gz'.format(scan_id))]\n",
    "  input_train_labels[scan_id]=[os.path.join(training_path, scan_id, '{}_seg.nii.gz'.format(scan_id))]\n",
    "  input_train_rois[scan_id]=[os.path.join(training_path, scan_id, '{}_brainmask.nii.gz'.format(scan_id))]\n",
    "\n",
    "#Validation\n",
    "input_val_data={}\n",
    "input_val_labels={}\n",
    "input_val_rois={}\n",
    "for scan_id in os.listdir(validation_path):\n",
    "  input_val_data[scan_id]=[os.path.join(validation_path, scan_id, '{}.nii.gz'.format(scan_id))]\n",
    "  input_val_labels[scan_id]=[os.path.join(validation_path, scan_id, '{}_seg.nii.gz'.format(scan_id))]\n",
    "  input_val_rois[scan_id]=[os.path.join(validation_path, scan_id, '{}_brainmask.nii.gz'.format(scan_id))]"
   ]
  },
  {
   "cell_type": "code",
   "execution_count": null,
   "metadata": {
    "colab": {
     "base_uri": "https://localhost:8080/"
    },
    "executionInfo": {
     "elapsed": 341,
     "status": "ok",
     "timestamp": 1641480867616,
     "user": {
      "displayName": "Muhammad Roshan Mughees",
      "photoUrl": "https://lh3.googleusercontent.com/a-/AOh14GjLW_8o7CwVjNZU3PLvAO31Gm-m6m52gQP1zEoNtg=s64",
      "userId": "00198926621962884016"
     },
     "user_tz": -60
    },
    "id": "J_bIR-CoFUNp",
    "outputId": "881a5cdc-286d-4437-8a0e-2792ce13abcc"
   },
   "outputs": [],
   "source": [
    "#test\n",
    "input_test_data={}\n",
    "input_test_rois={}\n",
    "for scan_id in os.listdir(test_path):\n",
    "  input_test_data[scan_id]=[os.path.join(test_path, scan_id, '{}.nii.gz'.format(scan_id))]\n",
    "  input_test_rois[scan_id]=[os.path.join(test_path, scan_id, '{}_brainmask.nii.gz'.format(scan_id))]\n",
    "print(len(input_test_data))"
   ]
  },
  {
   "cell_type": "markdown",
   "metadata": {
    "id": "6PYytNjZI8ml"
   },
   "source": [
    "# Build datagenerators"
   ]
  },
  {
   "cell_type": "code",
   "execution_count": null,
   "metadata": {
    "colab": {
     "base_uri": "https://localhost:8080/"
    },
    "executionInfo": {
     "elapsed": 10531,
     "status": "ok",
     "timestamp": 1641472122041,
     "user": {
      "displayName": "Muhammad Roshan Mughees",
      "photoUrl": "https://lh3.googleusercontent.com/a-/AOh14GjLW_8o7CwVjNZU3PLvAO31Gm-m6m52gQP1zEoNtg=s64",
      "userId": "00198926621962884016"
     },
     "user_tz": -60
    },
    "id": "K0qFoSZvvOPA",
    "outputId": "d5ae515f-67c2-42c6-cfe2-4e617c626772"
   },
   "outputs": [],
   "source": [
    "#train\n",
    "training_dataset = MRI_DataPatchLoader(input_data=input_train_data, labels=input_train_labels, rois=input_train_rois,patch_size=patch_size,\n",
    "                                       apply_padding=True, normalize=True, sampling_type='mask',sampling_step=sampling_step)\n",
    "training_dataloader = DataLoader(training_dataset,batch_size=batchsize,shuffle=True)\n",
    "#Validation\n",
    "validation_dataset = MRI_DataPatchLoader(input_data=input_val_data,labels=input_val_labels,rois=input_val_rois,patch_size=patch_size,\n",
    "                                       apply_padding=True, normalize=True, sampling_type='mask',sampling_step=sampling_step)\n",
    "validation_dataloader = DataLoader(validation_dataset,batch_size=batchsize,shuffle=True)"
   ]
  },
  {
   "cell_type": "code",
   "execution_count": null,
   "metadata": {
    "colab": {
     "base_uri": "https://localhost:8080/",
     "height": 220
    },
    "executionInfo": {
     "elapsed": 674,
     "status": "ok",
     "timestamp": 1641472181542,
     "user": {
      "displayName": "Muhammad Roshan Mughees",
      "photoUrl": "https://lh3.googleusercontent.com/a-/AOh14GjLW_8o7CwVjNZU3PLvAO31Gm-m6m52gQP1zEoNtg=s64",
      "userId": "00198926621962884016"
     },
     "user_tz": -60
    },
    "id": "WvdyW5TBXjbQ",
    "outputId": "fa7e2866-c9e9-4cde-b05e-b30c74122767"
   },
   "outputs": [],
   "source": [
    "\"\"\"inputs, classes = next(iter(training_dataloader))# Get a batch of training data\n",
    "out = torchvision.utils.make_grid(inputs[:,:,:,0])# Make a grid from batch\n",
    "imshow(out)\"\"\""
   ]
  },
  {
   "cell_type": "markdown",
   "metadata": {
    "id": "POEkwDeex4GX"
   },
   "source": [
    "# Training"
   ]
  },
  {
   "cell_type": "code",
   "execution_count": null,
   "metadata": {
    "id": "62XLlbhMtklY"
   },
   "outputs": [],
   "source": [
    "tmpdir = \"saved\"\n",
    "if not (os.path.exists(tmpdir)):\n",
    "    os.mkdir(tmpdir)"
   ]
  },
  {
   "cell_type": "code",
   "execution_count": null,
   "metadata": {
    "id": "FCWkNEqRLjzO"
   },
   "outputs": [],
   "source": [
    "#MODEL\n",
    "model = Unet(input_size=1, output_size=4)\n",
    "model = model.to(device)\n",
    "# define the optimizer\n",
    "optimizer = Adam(model.parameters())\n",
    "scheduler = ReduceLROnPlateau(optimizer, mode='min', factor=0.5, patience=5, verbose=True)"
   ]
  },
  {
   "cell_type": "code",
   "execution_count": null,
   "metadata": {
    "colab": {
     "base_uri": "https://localhost:8080/"
    },
    "executionInfo": {
     "elapsed": 3925913,
     "status": "ok",
     "timestamp": 1641241161272,
     "user": {
      "displayName": "Muhammad Roshan Mughees",
      "photoUrl": "https://lh3.googleusercontent.com/a-/AOh14GjLW_8o7CwVjNZU3PLvAO31Gm-m6m52gQP1zEoNtg=s64",
      "userId": "00198926621962884016"
     },
     "user_tz": -60
    },
    "id": "Gv-R-5Jl2Ce4",
    "outputId": "7907f32d-6b99-4661-d6e6-ab19414f5ca6"
   },
   "outputs": [],
   "source": [
    "train_loss_all = []\n",
    "train_acc_all = []\n",
    "val_loss_all = []\n",
    "val_acc_all = []\n",
    "best_acc = 0.0\n",
    "best_loss = 1e+5\n",
    "early_count = 0\n",
    "dice=True\n",
    "training = True\n",
    "epoch = 1\n",
    "\n",
    "since = time.time()\n",
    "while training:\n",
    "    train_loss = 0\n",
    "    train_accuracy = 0\n",
    "    val_loss = 0\n",
    "    val_accuracy = 0\n",
    "    model.train()\n",
    "    for b, batch in enumerate(training_dataloader):\n",
    "        x = batch[0].to(device)\n",
    "        y = batch[1].to(device)\n",
    "        optimizer.zero_grad()\n",
    "        pred = model(x)\n",
    "        if multi:\n",
    "          loss = calc_loss(pred,y)\n",
    "          train_loss += loss.item()\n",
    "        else:\n",
    "          loss = F.cross_entropy(torch.log(torch.clamp(pred, 1E-7, 1.0)),y.squeeze(dim=1).long())\n",
    "          train_loss += loss.item()\n",
    "        loss.backward()\n",
    "        optimizer.step()\n",
    "        # compute the accuracy\n",
    "        pred = pred.max(1, keepdim=True)[1]\n",
    "        batch_accuracy = pred.eq(y.view_as(pred).long())\n",
    "        train_accuracy += (batch_accuracy.sum().item() / np.prod(y.shape))\n",
    "    model.eval()\n",
    "    for a, batch in enumerate(validation_dataloader):\n",
    "        x = batch[0].to(device)\n",
    "        y = batch[1].to(device)\n",
    "        with torch.no_grad():\n",
    "            pred = model(x)\n",
    "            if multi:\n",
    "              loss = calc_loss(pred, y)\n",
    "              val_loss += loss.item()\n",
    "            else:\n",
    "              loss = F.cross_entropy(torch.log(torch.clamp(pred, 1E-7, 1.0)),\n",
    "                                y.squeeze(dim=1).long())\n",
    "              val_loss += loss.item()\n",
    "            pred = pred.max(1, keepdim=True)[1]\n",
    "            batch_accuracy = pred.eq(y.view_as(pred).long())\n",
    "            val_accuracy += batch_accuracy.sum().item() / np.prod(y.shape)\n",
    "    train_loss /= (b + 1)\n",
    "    train_accuracy /= (b + 1)\n",
    "    val_loss /= (a + 1)\n",
    "    val_accuracy /= (a + 1)\n",
    "\n",
    "    train_loss_all.append(train_loss)\n",
    "    train_acc_all.append(train_accuracy)\n",
    "    val_loss_all.append(val_loss)\n",
    "    val_acc_all.append(val_accuracy)\n",
    "    print('Epoch {:d} train_loss {:.4f} train_acc {:.4f} val_loss {:.4f} val_acc {:.4f}'.format(\n",
    "        epoch,\n",
    "        train_loss,\n",
    "        train_accuracy,\n",
    "        val_loss,\n",
    "        val_accuracy))\n",
    "\n",
    "    if val_loss < best_loss:\n",
    "          # save weights\n",
    "          best_loss = val_loss\n",
    "          best_acc = val_accuracy\n",
    "          print(\"val loss decreased...saving model\")\n",
    "          best_model_wts = copy.deepcopy(model.state_dict()) #copy its weights\n",
    "          model_path = \"{}/model.pt\".format(tmpdir)\n",
    "          torch.save(model.state_dict(),model_path)\n",
    "          early_count = 0\n",
    "    else:\n",
    "          early_count += 1\n",
    "    epoch += 1\n",
    "    scheduler.step(val_loss)\n",
    "\n",
    "    if early_count == 20:\n",
    "        print(\"Early stopping\")\n",
    "        training = False\n",
    "    if epoch >= num_epochs:\n",
    "        training = False\n",
    "model.load_state_dict(best_model_wts)\n",
    "time_elapsed = time.time() - since\n",
    "print('Training complete in {:.0f}m {:.0f}s'.format(time_elapsed // 60, time_elapsed % 60))"
   ]
  },
  {
   "cell_type": "markdown",
   "metadata": {
    "id": "O3fqgCXyxzMp"
   },
   "source": [
    "# Plotting Results"
   ]
  },
  {
   "cell_type": "code",
   "execution_count": null,
   "metadata": {
    "colab": {
     "base_uri": "https://localhost:8080/",
     "height": 573
    },
    "executionInfo": {
     "elapsed": 1151,
     "status": "ok",
     "timestamp": 1641242370780,
     "user": {
      "displayName": "Muhammad Roshan Mughees",
      "photoUrl": "https://lh3.googleusercontent.com/a-/AOh14GjLW_8o7CwVjNZU3PLvAO31Gm-m6m52gQP1zEoNtg=s64",
      "userId": "00198926621962884016"
     },
     "user_tz": -60
    },
    "id": "NkDquJ7HMd2B",
    "outputId": "da231889-2ed5-4089-f7ee-0b23ca086863"
   },
   "outputs": [],
   "source": [
    "# training and val accuracy\n",
    "plt.figure()\n",
    "plt.plot(train_acc_all)\n",
    "plt.plot(val_acc_all)\n",
    "plt.title('Accuracy')\n",
    "plt.ylabel('accuracy')\n",
    "plt.xlabel('epochs')\n",
    "plt.legend(['train', 'test'], loc='upper left')\n",
    "plt.savefig(\"{}/accuracy.png\".format(tmpdir))\n",
    "\n",
    "# training and val loss\n",
    "plt.figure()\n",
    "plt.plot(train_loss_all)\n",
    "plt.plot(val_loss_all)\n",
    "plt.title('Loss')\n",
    "plt.ylabel('loss')\n",
    "plt.xlabel('epochs')\n",
    "plt.legend(['train', 'test'], loc='upper left')\n",
    "plt.savefig(\"{}/loss.png\".format(tmpdir))"
   ]
  },
  {
   "cell_type": "markdown",
   "metadata": {
    "id": "hi8MGSdeyJP9"
   },
   "source": [
    "# Evalutaion"
   ]
  },
  {
   "cell_type": "code",
   "execution_count": null,
   "metadata": {
    "colab": {
     "base_uri": "https://localhost:8080/"
    },
    "executionInfo": {
     "elapsed": 15925,
     "status": "ok",
     "timestamp": 1641480883820,
     "user": {
      "displayName": "Muhammad Roshan Mughees",
      "photoUrl": "https://lh3.googleusercontent.com/a-/AOh14GjLW_8o7CwVjNZU3PLvAO31Gm-m6m52gQP1zEoNtg=s64",
      "userId": "00198926621962884016"
     },
     "user_tz": -60
    },
    "id": "MsdHxuSQyZ3D",
    "outputId": "522fc124-332a-40dc-805c-7a6a5d639e11"
   },
   "outputs": [],
   "source": [
    "model_path = \"{}/model.pt\".format(tmpdir)\n",
    "#MODEL\n",
    "model = Unet(input_size=1, output_size=4)\n",
    "model = model.to(device)\n",
    "model.load_state_dict(torch.load(model_path))"
   ]
  },
  {
   "cell_type": "code",
   "execution_count": null,
   "metadata": {
    "colab": {
     "base_uri": "https://localhost:8080/",
     "height": 438
    },
    "executionInfo": {
     "elapsed": 41087,
     "status": "ok",
     "timestamp": 1641480925923,
     "user": {
      "displayName": "Muhammad Roshan Mughees",
      "photoUrl": "https://lh3.googleusercontent.com/a-/AOh14GjLW_8o7CwVjNZU3PLvAO31Gm-m6m52gQP1zEoNtg=s64",
      "userId": "00198926621962884016"
     },
     "user_tz": -60
    },
    "id": "CPhqzx_todLI",
    "outputId": "794d6dcf-3596-459c-a3a0-a031919abcc7"
   },
   "outputs": [],
   "source": [
    "m_mean = evaluation(validation_path)\n",
    "m_mean"
   ]
  },
  {
   "cell_type": "code",
   "execution_count": null,
   "metadata": {
    "colab": {
     "base_uri": "https://localhost:8080/"
    },
    "executionInfo": {
     "elapsed": 86829,
     "status": "ok",
     "timestamp": 1641467984584,
     "user": {
      "displayName": "Muhammad Roshan Mughees",
      "photoUrl": "https://lh3.googleusercontent.com/a-/AOh14GjLW_8o7CwVjNZU3PLvAO31Gm-m6m52gQP1zEoNtg=s64",
      "userId": "00198926621962884016"
     },
     "user_tz": -60
    },
    "id": "STr4Xt6fqWb7",
    "outputId": "e9d4c270-f00d-4cd1-de77-27aab46e9915"
   },
   "outputs": [],
   "source": [
    "m_mean = evaluation(training_path)\n",
    "print(m_mean)"
   ]
  },
  {
   "cell_type": "code",
   "execution_count": null,
   "metadata": {
    "executionInfo": {
     "elapsed": 17465,
     "status": "ok",
     "timestamp": 1641471183668,
     "user": {
      "displayName": "Muhammad Roshan Mughees",
      "photoUrl": "https://lh3.googleusercontent.com/a-/AOh14GjLW_8o7CwVjNZU3PLvAO31Gm-m6m52gQP1zEoNtg=s64",
      "userId": "00198926621962884016"
     },
     "user_tz": -60
    },
    "id": "ra7sdRVJTRx1"
   },
   "outputs": [],
   "source": [
    "evaluation_test(test_path)"
   ]
  }
 ],
 "metadata": {
  "accelerator": "GPU",
  "colab": {
   "collapsed_sections": [
    "MCyDC5QmTIMx",
    "It1LhpVVS6Py",
    "YIwCMVr6YCbx",
    "cEpQY9N9t9SN",
    "4uQpcbeWF8oW",
    "6PYytNjZI8ml",
    "Nf4ytkn-wjEP",
    "cagaO5VCx67C",
    "POEkwDeex4GX",
    "O3fqgCXyxzMp"
   ],
   "name": "MISA 3D.ipynb",
   "provenance": []
  },
  "kernelspec": {
   "display_name": "Python 3",
   "language": "python",
   "name": "python3"
  },
  "language_info": {
   "codemirror_mode": {
    "name": "ipython",
    "version": 3
   },
   "file_extension": ".py",
   "mimetype": "text/x-python",
   "name": "python",
   "nbconvert_exporter": "python",
   "pygments_lexer": "ipython3",
   "version": "3.6.5"
  }
 },
 "nbformat": 4,
 "nbformat_minor": 1
}
